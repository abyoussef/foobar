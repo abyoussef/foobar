{
 "cells": [
  {
   "cell_type": "code",
   "execution_count": 1,
   "metadata": {},
   "outputs": [],
   "source": [
    "import matplotlib.pyplot as plt"
   ]
  },
  {
   "cell_type": "code",
   "execution_count": 3,
   "metadata": {},
   "outputs": [],
   "source": [
    "def suite(n,m,K):\n",
    "    x = [n]\n",
    "    y = [m]\n",
    "    for _ in range(K):\n",
    "        if n>m:\n",
    "            n,m = n-m,2*m\n",
    "\n",
    "        elif m>n:\n",
    "            n,m = 2*n,m-n\n",
    "        x.append(n)\n",
    "        y.append(m)\n",
    "    return x,y"
   ]
  },
  {
   "cell_type": "code",
   "execution_count": 6,
   "metadata": {},
   "outputs": [
    {
     "data": {
      "text/plain": [
       "<matplotlib.collections.PathCollection at 0x26355a621a0>"
      ]
     },
     "execution_count": 6,
     "metadata": {},
     "output_type": "execute_result"
    },
    {
     "data": {
      "image/png": "[encoded data removed]",
      "text/plain": [
       "<Figure size 432x288 with 1 Axes>"
      ]
     },
     "metadata": {
      "needs_background": "light"
     },
     "output_type": "display_data"
    }
   ],
   "source": [
    "x,y = suite(3,19,20)\n",
    "plt.scatter(x,y)"
   ]
  },
  {
   "cell_type": "code",
   "execution_count": 7,
   "metadata": {},
   "outputs": [
    {
     "name": "stdout",
     "output_type": "stream",
     "text": [
      "[3, 6, 12, 2, 4, 8, 16, 10, 20, 18, 14, 6, 12, 2, 4, 8, 16, 10, 20, 18, 14]\n",
      "[19, 16, 10, 20, 18, 14, 6, 12, 2, 4, 8, 16, 10, 20, 18, 14, 6, 12, 2, 4, 8]\n"
     ]
    }
   ],
   "source": [
    "print(x)\n",
    "print(y)"
   ]
  }
 ],
 "metadata": {
  "interpreter": {
   "hash": "fb527cb0120348426e69b3ec128358ed5802ad1797703217b3612b34a41fe85f"
  },
  "kernelspec": {
   "display_name": "Python 3.10.2 ('qcc-venv': venv)",
   "language": "python",
   "name": "python3"
  },
  "language_info": {
   "codemirror_mode": {
    "name": "ipython",
    "version": 3
   },
   "file_extension": ".py",
   "mimetype": "text/x-python",
   "name": "python",
   "nbconvert_exporter": "python",
   "pygments_lexer": "ipython3",
   "version": "3.10.2"
  },
  "orig_nbformat": 4
 },
 "nbformat": 4,
 "nbformat_minor": 2
}
